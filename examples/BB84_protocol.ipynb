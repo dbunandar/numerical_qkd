{
 "cells": [
  {
   "cell_type": "markdown",
   "metadata": {},
   "source": [
    "BB84_protocol\n",
    "====================\n",
    "This notebook demonstrates how to compute the finite-length key rate for the standard BB84 protocol using convex optimization.\n",
    "\n",
    "The calculation done in this notebook shows how we do postselection in the calculation\n",
    "\n",
    "Author: Darius Bunandar (dariusb@mit.edu)\n",
    "\n",
    "Unauthorized use and/or duplication of this material without express and\n",
    "written permission from the author and/or owner is strictly prohibited."
   ]
  },
  {
   "cell_type": "code",
   "execution_count": 1,
   "metadata": {
    "code_folding": [],
    "init_cell": true
   },
   "outputs": [
    {
     "ename": "EngineError",
     "evalue": "Unable to launch MVM server: License Error",
     "output_type": "error",
     "traceback": [
      "\u001b[0;31m---------------------------------------------------------------------------\u001b[0m",
      "\u001b[0;31mEngineError\u001b[0m                               Traceback (most recent call last)",
      "\u001b[0;32m<ipython-input-1-b623aeea3dd2>\u001b[0m in \u001b[0;36m<module>\u001b[0;34m\u001b[0m\n\u001b[1;32m     13\u001b[0m \u001b[0;34m\u001b[0m\u001b[0m\n\u001b[1;32m     14\u001b[0m \u001b[0;34m\u001b[0m\u001b[0m\n\u001b[0;32m---> 15\u001b[0;31m \u001b[0mmatlab_eng\u001b[0m \u001b[0;34m=\u001b[0m \u001b[0mmatlab\u001b[0m\u001b[0;34m.\u001b[0m\u001b[0mengine\u001b[0m\u001b[0;34m.\u001b[0m\u001b[0mstart_matlab\u001b[0m\u001b[0;34m(\u001b[0m\u001b[0;34m)\u001b[0m\u001b[0;34m\u001b[0m\u001b[0m\n\u001b[0m\u001b[1;32m     16\u001b[0m \u001b[0mmatlab_eng\u001b[0m\u001b[0;34m.\u001b[0m\u001b[0maddpath\u001b[0m\u001b[0;34m(\u001b[0m\u001b[0mMATLAB_LIB_LOC\u001b[0m\u001b[0;34m,\u001b[0m \u001b[0mnargout\u001b[0m\u001b[0;34m=\u001b[0m\u001b[0;36m0\u001b[0m\u001b[0;34m)\u001b[0m\u001b[0;34m\u001b[0m\u001b[0m\n\u001b[1;32m     17\u001b[0m \u001b[0;34m\u001b[0m\u001b[0m\n",
      "\u001b[0;32m~/.pyenv/versions/3.6.6/envs/dev/lib/python3.6/site-packages/matlab/engine/__init__.py\u001b[0m in \u001b[0;36mstart_matlab\u001b[0;34m(option, **kwargs)\u001b[0m\n\u001b[1;32m    113\u001b[0m     \u001b[0;32mif\u001b[0m \u001b[0;32mnot\u001b[0m \u001b[0mbackground\u001b[0m\u001b[0;34m:\u001b[0m\u001b[0;34m\u001b[0m\u001b[0m\n\u001b[1;32m    114\u001b[0m         \u001b[0;31m#multi-threads cannot launch MATLAB simultaneously\u001b[0m\u001b[0;34m\u001b[0m\u001b[0;34m\u001b[0m\u001b[0m\n\u001b[0;32m--> 115\u001b[0;31m         \u001b[0meng\u001b[0m \u001b[0;34m=\u001b[0m \u001b[0mfuture\u001b[0m\u001b[0;34m.\u001b[0m\u001b[0mresult\u001b[0m\u001b[0;34m(\u001b[0m\u001b[0;34m)\u001b[0m\u001b[0;34m\u001b[0m\u001b[0m\n\u001b[0m\u001b[1;32m    116\u001b[0m         \u001b[0;32mreturn\u001b[0m \u001b[0meng\u001b[0m\u001b[0;34m\u001b[0m\u001b[0m\n\u001b[1;32m    117\u001b[0m     \u001b[0;32melse\u001b[0m\u001b[0;34m:\u001b[0m\u001b[0;34m\u001b[0m\u001b[0m\n",
      "\u001b[0;32m~/.pyenv/versions/3.6.6/envs/dev/lib/python3.6/site-packages/matlab/engine/futureresult.py\u001b[0m in \u001b[0;36mresult\u001b[0;34m(self, timeout)\u001b[0m\n\u001b[1;32m     65\u001b[0m                 \u001b[0;32mraise\u001b[0m \u001b[0mTypeError\u001b[0m\u001b[0;34m(\u001b[0m\u001b[0mpythonengine\u001b[0m\u001b[0;34m.\u001b[0m\u001b[0mgetMessage\u001b[0m\u001b[0;34m(\u001b[0m\u001b[0;34m'TimeoutCannotBeNegative'\u001b[0m\u001b[0;34m)\u001b[0m\u001b[0;34m)\u001b[0m\u001b[0;34m\u001b[0m\u001b[0m\n\u001b[1;32m     66\u001b[0m \u001b[0;34m\u001b[0m\u001b[0m\n\u001b[0;32m---> 67\u001b[0;31m         \u001b[0;32mreturn\u001b[0m \u001b[0mself\u001b[0m\u001b[0;34m.\u001b[0m\u001b[0m__future\u001b[0m\u001b[0;34m.\u001b[0m\u001b[0mresult\u001b[0m\u001b[0;34m(\u001b[0m\u001b[0mtimeout\u001b[0m\u001b[0;34m)\u001b[0m\u001b[0;34m\u001b[0m\u001b[0m\n\u001b[0m\u001b[1;32m     68\u001b[0m \u001b[0;34m\u001b[0m\u001b[0m\n\u001b[1;32m     69\u001b[0m     \u001b[0;32mdef\u001b[0m \u001b[0mcancel\u001b[0m\u001b[0;34m(\u001b[0m\u001b[0mself\u001b[0m\u001b[0;34m)\u001b[0m\u001b[0;34m:\u001b[0m\u001b[0;34m\u001b[0m\u001b[0m\n",
      "\u001b[0;32m~/.pyenv/versions/3.6.6/envs/dev/lib/python3.6/site-packages/matlab/engine/matlabfuture.py\u001b[0m in \u001b[0;36mresult\u001b[0;34m(self, timeout)\u001b[0m\n\u001b[1;32m     85\u001b[0m                     \u001b[0;32mraise\u001b[0m \u001b[0mTimeoutError\u001b[0m\u001b[0;34m(\u001b[0m\u001b[0mpythonengine\u001b[0m\u001b[0;34m.\u001b[0m\u001b[0mgetMessage\u001b[0m\u001b[0;34m(\u001b[0m\u001b[0;34m'LaunchMatlabTimeout'\u001b[0m\u001b[0;34m)\u001b[0m\u001b[0;34m)\u001b[0m\u001b[0;34m\u001b[0m\u001b[0m\n\u001b[1;32m     86\u001b[0m \u001b[0;34m\u001b[0m\u001b[0m\n\u001b[0;32m---> 87\u001b[0;31m             \u001b[0mhandle\u001b[0m \u001b[0;34m=\u001b[0m \u001b[0mpythonengine\u001b[0m\u001b[0;34m.\u001b[0m\u001b[0mgetMATLAB\u001b[0m\u001b[0;34m(\u001b[0m\u001b[0mself\u001b[0m\u001b[0;34m.\u001b[0m\u001b[0m_future\u001b[0m\u001b[0;34m)\u001b[0m\u001b[0;34m\u001b[0m\u001b[0m\n\u001b[0m\u001b[1;32m     88\u001b[0m             \u001b[0meng\u001b[0m \u001b[0;34m=\u001b[0m \u001b[0mMatlabEngine\u001b[0m\u001b[0;34m(\u001b[0m\u001b[0mhandle\u001b[0m\u001b[0;34m)\u001b[0m\u001b[0;34m\u001b[0m\u001b[0m\n\u001b[1;32m     89\u001b[0m             \u001b[0mself\u001b[0m\u001b[0;34m.\u001b[0m\u001b[0m_matlab\u001b[0m \u001b[0;34m=\u001b[0m \u001b[0meng\u001b[0m\u001b[0;34m\u001b[0m\u001b[0m\n",
      "\u001b[0;31mEngineError\u001b[0m: Unable to launch MVM server: License Error"
     ]
    }
   ],
   "source": [
    "# Initialization Cell\n",
    "import matlab.engine\n",
    "import numpy as np\n",
    "import sys\n",
    "import os\n",
    "import matplotlib.pyplot as plt\n",
    "import numerical_qkd as nQKD\n",
    "import itertools\n",
    "from tqdm import tqdm_notebook as tqdm\n",
    "\n",
    "MATLAB_LIB_LOC = os.path.join(\n",
    "    '..', 'numerical_qkd', 'matlab_lib')  # change as necessary\n",
    "\n",
    "\n",
    "matlab_eng = matlab.engine.start_matlab()\n",
    "matlab_eng.addpath(MATLAB_LIB_LOC, nargout=0)\n",
    "\n",
    "# Some helpful definitions\n",
    "ket_0 = np.array([1., 0.])\n",
    "ket_1 = np.array([0., 1.])\n",
    "ket_p = np.array([1., 1.])/np.sqrt(2)\n",
    "ket_m = np.array([1., -1.])/np.sqrt(2)\n",
    "sigma_00 = np.outer(ket_0, np.conj(ket_0))\n",
    "sigma_11 = np.outer(ket_1, np.conj(ket_1))\n",
    "sigma_pp = np.outer(ket_p, np.conj(ket_p))\n",
    "sigma_mm = np.outer(ket_m, np.conj(ket_m))"
   ]
  },
  {
   "cell_type": "markdown",
   "metadata": {},
   "source": [
    "## Asymptotic secret key rate"
   ]
  },
  {
   "cell_type": "code",
   "execution_count": 2,
   "metadata": {},
   "outputs": [],
   "source": [
    "\"\"\"\n",
    "Problem definition\n",
    "\"\"\"\n",
    "dim = 2\n",
    "dims = [dim, dim]\n",
    "\n",
    "Z0 = sigma_00\n",
    "Z1 = sigma_11\n",
    "key_map_povm = [Z0, Z1]\n",
    "\n",
    "postselect_prob = np.array([.25, .25])  # assume they choose pz=px=1/2\n",
    "Ez = np.kron(sigma_00, sigma_11) + np.kron(sigma_11, sigma_00)\n",
    "Ex = np.kron(sigma_pp, sigma_mm) + np.kron(sigma_mm, sigma_pp)\n",
    "Gamma = [Ez, Ex]\n",
    "Gamma = [G*p for G, p in zip(Gamma, postselect_prob)]"
   ]
  },
  {
   "cell_type": "code",
   "execution_count": 3,
   "metadata": {},
   "outputs": [
    {
     "data": {
      "application/vnd.jupyter.widget-view+json": {
       "model_id": "4ea9f187b7e3491ba780b45e4b700b0b",
       "version_major": 2,
       "version_minor": 0
      },
      "text/plain": [
       "HBox(children=(IntProgress(value=1, bar_style='info', max=1), HTML(value='')))"
      ]
     },
     "metadata": {},
     "output_type": "display_data"
    },
    {
     "name": "stdout",
     "output_type": "stream",
     "text": [
      "\n"
     ]
    }
   ],
   "source": [
    "# Numerical method\n",
    "qber = np.linspace(0, .12, 21)\n",
    "key_opt_primal_asymptotic = np.empty_like(qber)\n",
    "\n",
    "p_pass = np.sum(postselect_prob)\n",
    "\n",
    "H = nQKD.RelativeEntropyKeyrate(key_map_povm, [dim, dim])\n",
    "\n",
    "for i, q in tqdm(enumerate(qber)):\n",
    "    gamma = np.array([q, q]) * postselect_prob\n",
    "    ex_const = {'Gamma': Gamma, 'gamma': gamma}\n",
    "    H.set_constraints(exact_constraints=ex_const)\n",
    "    key_opt_primal_asymptotic[i] = H.compute_primal_with_matlab(matlab_eng)\n",
    "        # This computes the key per successful detection\n",
    "    \n",
    "hq = np.array([nQKD.bin_entropy(q) for q in qber])\n",
    "key_asymptotic = p_pass*(key_opt_primal_asymptotic - hq)"
   ]
  },
  {
   "cell_type": "code",
   "execution_count": 4,
   "metadata": {},
   "outputs": [],
   "source": [
    "# Analytical method\n",
    "qber_analytic = np.linspace(0, .2, 1001)\n",
    "p_pass = np.sum(postselect_prob)\n",
    "key_analytic_asymptotic = np.array([1-2*nQKD.bin_entropy(q) for q in qber_analytic])\n",
    "key_analytic_asymptotic *= p_pass"
   ]
  },
  {
   "cell_type": "code",
   "execution_count": 6,
   "metadata": {},
   "outputs": [
    {
     "data": {
      "image/png": "[encoded data removed]",
      "text/plain": [
       "<Figure size 432x288 with 1 Axes>"
      ]
     },
     "metadata": {
      "needs_background": "light"
     },
     "output_type": "display_data"
    }
   ],
   "source": [
    "# Plot results\n",
    "%matplotlib inline\n",
    "\n",
    "plt.plot(qber_analytic, key_analytic_asymptotic, '-', label='Analytic')\n",
    "plt.plot(qber, key_asymptotic, 'o', label='Numerical')\n",
    "plt.ylim([0,.51])\n",
    "plt.xlim([-1e-4,.12])\n",
    "plt.xlabel('Quantum bit error rate')\n",
    "plt.ylabel('Secret key rate')\n",
    "plt.legend()\n",
    "plt.tight_layout()\n",
    "plt.savefig('bb84_asymptotic.eps', format='eps', dpi=1000, transparent=True)\n",
    "plt.show()"
   ]
  },
  {
   "cell_type": "markdown",
   "metadata": {},
   "source": [
    "## Secret key rate from solving $H_{\\min}(Z_A|E)$\n",
    "Analyze how many transmissions are needed to obtain a non-zero key-rate in the entanglement-based scenario.\n",
    "\n",
    "We compare the numerical results with the analytical results.\n",
    "\n",
    "$\\ell \\leq n \\left[ H_{\\min}(Z|E) - \\text{leak}_{EC} \\right] - 2 \\log_2 (1/2 \\varepsilon_{PA}) - \\log_2 (2/\\varepsilon_{cor})$\n",
    "\n",
    "Analytically, \n",
    "\n",
    "$H_{\\min}(Z|E) = -\\log_2 \\left[ \\frac{1}{2} \\left(1+2\\sqrt{(1-Q)Q} \\right) \\right]$."
   ]
  },
  {
   "cell_type": "code",
   "execution_count": 15,
   "metadata": {},
   "outputs": [],
   "source": [
    "\"\"\"\n",
    "Problem definition\n",
    "\"\"\"\n",
    "dim = 2\n",
    "dims = [dim, dim]\n",
    "\n",
    "Z0 = sigma_00\n",
    "Z1 = sigma_11\n",
    "key_map_povm = [Z0, Z1]\n",
    "\n",
    "postselect_prob = np.array([.25, .25])  # assume they choose pz=px=1/2\n",
    "Ez = np.kron(sigma_00, sigma_11) + np.kron(sigma_11, sigma_00)\n",
    "Ex = np.kron(sigma_pp, sigma_mm) + np.kron(sigma_mm, sigma_pp)\n",
    "Gamma = [Ez, Ex]\n",
    "Gamma = [G*p for G, p in zip(Gamma, postselect_prob)]\n",
    "\n",
    "channel_eff = 1\n",
    "ratio_PE = .1  # ratio of successful detections for parameter estimation\n",
    "\n",
    "# Epsilon errors\n",
    "eps_sec = 1e-5 # coherent attack\n",
    "eps_cor = 1e-15\n",
    "nPE = 2\n",
    "# eps_sec = eps + eps_PE + eps_PA + eps_EC"
   ]
  },
  {
   "cell_type": "code",
   "execution_count": 16,
   "metadata": {},
   "outputs": [
    {
     "data": {
      "application/vnd.jupyter.widget-view+json": {
       "model_id": "",
       "version_major": 2,
       "version_minor": 0
      },
      "text/plain": [
       "HBox(children=(IntProgress(value=1, bar_style='info', max=1), HTML(value='')))"
      ]
     },
     "metadata": {},
     "output_type": "display_data"
    },
    {
     "data": {
      "application/vnd.jupyter.widget-view+json": {
       "model_id": "",
       "version_major": 2,
       "version_minor": 0
      },
      "text/plain": [
       "HBox(children=(IntProgress(value=1, bar_style='info', max=1), HTML(value='')))"
      ]
     },
     "metadata": {},
     "output_type": "display_data"
    },
    {
     "data": {
      "application/vnd.jupyter.widget-view+json": {
       "model_id": "",
       "version_major": 2,
       "version_minor": 0
      },
      "text/plain": [
       "HBox(children=(IntProgress(value=1, bar_style='info', max=1), HTML(value='')))"
      ]
     },
     "metadata": {},
     "output_type": "display_data"
    },
    {
     "data": {
      "application/vnd.jupyter.widget-view+json": {
       "model_id": "",
       "version_major": 2,
       "version_minor": 0
      },
      "text/plain": [
       "HBox(children=(IntProgress(value=1, bar_style='info', max=1), HTML(value='')))"
      ]
     },
     "metadata": {},
     "output_type": "display_data"
    },
    {
     "data": {
      "application/vnd.jupyter.widget-view+json": {
       "model_id": "",
       "version_major": 2,
       "version_minor": 0
      },
      "text/plain": [
       "HBox(children=(IntProgress(value=1, bar_style='info', max=1), HTML(value='')))"
      ]
     },
     "metadata": {},
     "output_type": "display_data"
    },
    {
     "data": {
      "application/vnd.jupyter.widget-view+json": {
       "model_id": "",
       "version_major": 2,
       "version_minor": 0
      },
      "text/plain": [
       "HBox(children=(IntProgress(value=1, bar_style='info', max=1), HTML(value='')))"
      ]
     },
     "metadata": {},
     "output_type": "display_data"
    },
    {
     "name": "stdout",
     "output_type": "stream",
     "text": [
      "\r"
     ]
    }
   ],
   "source": [
    "# Numerical calculations\n",
    "total_signals_sent = np.logspace(5, 13, 21)\n",
    "qber = np.linspace(0, .1, 5)\n",
    "\n",
    "# Total probability of failure in parameter estimation\n",
    "eps_PE_total = np.empty([len(qber), len(total_signals_sent)])\n",
    "\n",
    "# l_primal and l_dual are the key rate per successful detection\n",
    "# obtained by solving the primal and dual methods respectively.\n",
    "l_dual = np.empty([len(qber), len(total_signals_sent)])\n",
    "\n",
    "HoeffdingBound = nQKD.HoeffdingInequality()\n",
    "\n",
    "qkd = nQKD.RelativeMinEntropyKeyrate(key_map_povm, dims)\n",
    "\n",
    "for j, q in tqdm(enumerate(qber), leave=False):\n",
    "    gamma = np.array([q, q]) * postselect_prob\n",
    "    basis_info_list = nQKD.BasisInformationList([nQKD.BasisInformation(\n",
    "        Gamma=G, gamma=g, probability=p)\n",
    "        for G, g, p in zip(Gamma, gamma, postselect_prob)])\n",
    "\n",
    "    for i, n_signals in tqdm(enumerate(total_signals_sent), leave=False):\n",
    "\n",
    "        eps_coll = eps_sec * np.power(float(n_signals+1), -(dim**4-1))\n",
    "        error = eps_coll / (nPE + 2)\n",
    "        eps_PE = error  # for each parameter\n",
    "        eps_PA = error\n",
    "        eps_EC = error \n",
    "        \n",
    "        # Parameter estimation\n",
    "        HoeffdingBound.reset_counters()\n",
    "        basis_info_list = nQKD.Constraints.single_photon_constraint_bounds(\n",
    "            basis_info_list, ratio_PE*n_signals, eps_PE,\n",
    "            HoeffdingBound, nQKD.simulate_single_photons, bob_eff=channel_eff)\n",
    "        eps_PE_total[j, i] = HoeffdingBound.upper_bound_failure_prob\n",
    "\n",
    "        # Compute keyrate\n",
    "        gamma_lb = basis_info_list.unpack('gamma_lb')\n",
    "        gamma_ub = basis_info_list.unpack('gamma_ub')\n",
    "        inexact_const = {'Gamma': Gamma,\n",
    "                         'gamma_lb': gamma_lb, 'gamma_ub': gamma_ub}\n",
    "        qkd.set_constraints(inexact_constraints=inexact_const)\n",
    "        l_dual[j, i] = qkd.compute_dual(solver='MOSEK')\n",
    "\n",
    "p_pass = np.sum(postselect_prob)\n",
    "prob_detection = nQKD.simulate_single_photons(channel_eff)*p_pass\n",
    "n = prob_detection*(1-ratio_PE)*total_signals_sent\n",
    "hq = np.array([nQKD.bin_entropy(q) for q in qber])\n",
    "post_processing = n*hq[:, np.newaxis] + 2 * \\\n",
    "    np.log2(.5/eps_PA) + np.log2(2/eps_cor) + \\\n",
    "    n*np.log2(5)*np.sqrt(3*np.log2(2/eps_EC)/n)\n",
    "\n",
    "l_dual = n*l_dual - post_processing\n",
    "l_dual[l_dual < 0] = 0\n",
    "\n",
    "r_dual_coll = l_dual/total_signals_sent\n",
    "coh_correction = 2*(dim**4-1)*np.log2(total_signals_sent+1)/total_signals_sent\n",
    "r_dual = r_dual_coll - coh_correction"
   ]
  },
  {
   "cell_type": "code",
   "execution_count": 17,
   "metadata": {},
   "outputs": [],
   "source": [
    "# Analytical calculations\n",
    "analytic_total_signals_sent = np.logspace(3, 13, 1001)\n",
    "analytic_qber_max = np.empty([len(qber), len(analytic_total_signals_sent)])\n",
    "l_analytic = np.empty_like(analytic_qber_max)\n",
    "\n",
    "for j, q in enumerate(qber):\n",
    "    gamma = np.array([q, q]) * postselect_prob\n",
    "    basis_info_list = nQKD.BasisInformationList([nQKD.BasisInformation(\n",
    "        Gamma=G, gamma=g, probability=p)\n",
    "        for G, g, p in zip(Gamma, gamma, postselect_prob)])\n",
    "    \n",
    "    for i, n_signals in enumerate(analytic_total_signals_sent):\n",
    "        \n",
    "        eps_coll = eps_sec * np.power(float(n_signals+1), -(dim**4-1))\n",
    "        error = eps_coll / (nPE + 2)\n",
    "        eps_PE = error  # for each parameter\n",
    "        eps_PA = error\n",
    "        eps_EC = error\n",
    "        \n",
    "        # Parameter estimation\n",
    "        HoeffdingBound.reset_counters()\n",
    "        basis_info_list = nQKD.Constraints.single_photon_constraint_bounds(\n",
    "            basis_info_list, ratio_PE*n_signals, eps_PE,\n",
    "            HoeffdingBound, nQKD.simulate_single_photons, bob_eff=channel_eff)\n",
    "\n",
    "        gamma_ub = basis_info_list.unpack('gamma_ub')\n",
    "        gamma_ub /= postselect_prob\n",
    "        \n",
    "        # QBER should be the same in both bases if pz_A = pz_B = 1/2\n",
    "        assert(np.isclose(gamma_ub[0], gamma_ub[1])), \"QBER unequal\"\n",
    "        \n",
    "        # take the maximum QBER as the worst case scenario\n",
    "        q_ = gamma_ub[0] if gamma_ub[0]<0.5 else 0.5\n",
    "        analytic_qber_max[j,i] = q_\n",
    "        l_analytic[j,i] = -1*np.log2(.5*(1+2*np.sqrt(q_*(1-q_))))\n",
    "\n",
    "p_pass = np.sum(postselect_prob)\n",
    "prob_detection = nQKD.simulate_single_photons(channel_eff)*p_pass\n",
    "n = prob_detection*(1-ratio_PE)*analytic_total_signals_sent\n",
    "hq = np.array([nQKD.bin_entropy(q) for q in qber])\n",
    "post_processing = n*hq[:, np.newaxis] + 2 * \\\n",
    "    np.log2(.5/eps_PA) + np.log2(2/eps_cor) + \\\n",
    "    n*np.log2(5)*np.sqrt(3*np.log2(2/eps_EC)/n)\n",
    "\n",
    "l_analytic = n*l_analytic - post_processing\n",
    "l_analytic[l_analytic < 0] = 0\n",
    "\n",
    "r_analytic = l_analytic / analytic_total_signals_sent\n",
    "coh_correction = 2*(dim**4-1)*np.log2(analytic_total_signals_sent+1)/analytic_total_signals_sent\n",
    "r_analytic = r_analytic - coh_correction"
   ]
  },
  {
   "cell_type": "code",
   "execution_count": 18,
   "metadata": {},
   "outputs": [
    {
     "data": {
      "image/png": "[encoded data removed]",
      "text/plain": [
       "<Figure size 432x288 with 1 Axes>"
      ]
     },
     "metadata": {
      "needs_background": "light"
     },
     "output_type": "display_data"
    }
   ],
   "source": [
    "output_figure = False\n",
    "\n",
    "if output_figure:\n",
    "    %matplotlib inline\n",
    "#     np.savez('bb84_min_entropy.npz', total_signals_sent, qber, r_primal, r_dual)\n",
    "    np.savez('bb84_min_entropy.npz', total_signals_sent, qber, r_dual)\n",
    "else:\n",
    "    %matplotlib inline\n",
    "\n",
    "# Plot data\n",
    "color_wheel = ['C0', 'C1', 'C2', 'C3']\n",
    "for i, q in enumerate(qber[:-1]):\n",
    "    q_ = \"{:.1f}\".format(q*100)\n",
    "    label_name = \"QBER = \"+q_+\"%\"\n",
    "    col = color_wheel[i]\n",
    "    plt.loglog(analytic_total_signals_sent,\n",
    "               r_analytic[i, :], '-', color='k')\n",
    "    plt.loglog(total_signals_sent,\n",
    "               r_dual[i, :], 'o', label=label_name, color=col)\n",
    "plt.xlabel('Number of signals sent')\n",
    "plt.ylabel('Secret key rate')\n",
    "plt.legend()\n",
    "plt.tight_layout()\n",
    "\n",
    "if output_figure:\n",
    "    plt.savefig('bb84_min_entropy.eps', format='eps',\n",
    "                dpi=1000, transparent=True)\n",
    "plt.show()"
   ]
  }
 ],
 "metadata": {
  "celltoolbar": "Initialization Cell",
  "kernelspec": {
   "display_name": "Python 3",
   "language": "python",
   "name": "python3"
  },
  "language_info": {
   "codemirror_mode": {
    "name": "ipython",
    "version": 3
   },
   "file_extension": ".py",
   "mimetype": "text/x-python",
   "name": "python",
   "nbconvert_exporter": "python",
   "pygments_lexer": "ipython3",
   "version": "3.6.6"
  },
  "latex_envs": {
   "LaTeX_envs_menu_present": true,
   "autoclose": false,
   "autocomplete": true,
   "bibliofile": "biblio.bib",
   "cite_by": "apalike",
   "current_citInitial": 1,
   "eqLabelWithNumbers": true,
   "eqNumInitial": 1,
   "hotkeys": {
    "equation": "Ctrl-E",
    "itemize": "Ctrl-I"
   },
   "labels_anchors": false,
   "latex_user_defs": false,
   "report_style_numbering": false,
   "user_envs_cfg": false
  },
  "toc": {
   "base_numbering": 1,
   "nav_menu": {},
   "number_sections": true,
   "sideBar": true,
   "skip_h1_title": false,
   "title_cell": "Table of Contents",
   "title_sidebar": "Contents",
   "toc_cell": false,
   "toc_position": {},
   "toc_section_display": true,
   "toc_window_display": false
  },
  "varInspector": {
   "cols": {
    "lenName": 16,
    "lenType": 16,
    "lenVar": 40
   },
   "kernels_config": {
    "python": {
     "delete_cmd_postfix": "",
     "delete_cmd_prefix": "del ",
     "library": "var_list.py",
     "varRefreshCmd": "print(var_dic_list())"
    },
    "r": {
     "delete_cmd_postfix": ") ",
     "delete_cmd_prefix": "rm(",
     "library": "var_list.r",
     "varRefreshCmd": "cat(var_dic_list()) "
    }
   },
   "types_to_exclude": [
    "module",
    "function",
    "builtin_function_or_method",
    "instance",
    "_Feature"
   ],
   "window_display": false
  }
 },
 "nbformat": 4,
 "nbformat_minor": 2
}
