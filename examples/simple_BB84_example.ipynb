{
 "cells": [
  {
   "cell_type": "markdown",
   "metadata": {},
   "source": [
    "Simple BB84 Example\n",
    "====================\n",
    "Simple BB84 calculations with symmetric Z and X basis choices.\n",
    "This is used to illustrate how the computation is performed\n",
    "\n",
    "Author: Darius Bunandar (dariusb@mit.edu)\n",
    "\n",
    "Unauthorized use and/or duplication of this material without express and\n",
    "written permission from the author and/or owner is strictly prohibited.\n",
    "\n",
    "\n",
    "In this notebook, we compute the secret key rate for BB84, assuming that we know\n",
    "the constraints $\\{\\Gamma_i\\}$ and their values $\\{\\gamma_i\\}$ exactly. \n",
    "Here, $\\text{Tr}(\\rho_{AB} \\Gamma_i) = \\gamma_i$.\n",
    "\n",
    "For BB84:\n",
    "\n",
    "$\\{\\Gamma_i \\} = \\{E_X, E_Z\\}$, \n",
    "\n",
    "$\\{\\gamma_i \\} = \\{Q, Q\\}$\n",
    "\n",
    "(The constraint $\\text{Tr}(\\rho_{AB}) = 1$ has been automatically handled by the code.)"
   ]
  },
  {
   "cell_type": "code",
   "execution_count": 2,
   "metadata": {
    "init_cell": true
   },
   "outputs": [],
   "source": [
    "# Initialization Cell\n",
    "import numpy as np\n",
    "import matplotlib.pyplot as plt\n",
    "import numerical_qkd as nQKD\n",
    "from tqdm import tqdm_notebook as tqdm\n",
    "\n",
    "# Some helpful definitions\n",
    "sigma_00 = np.array([[1., 0], [0, 0]])\n",
    "sigma_11 = np.array([[0, 0], [0, 1.]])\n",
    "sigma_pp = .5*np.array([[1., 1.], [1., 1.]])\n",
    "sigma_mm = .5*np.array([[1., -1.], [-1., 1.]])\n",
    "Ez = np.kron(sigma_00, sigma_11) + np.kron(sigma_11, sigma_00)\n",
    "Ex = np.kron(sigma_pp, sigma_mm) + np.kron(sigma_mm, sigma_pp)\n",
    "Z0 = sigma_00\n",
    "Z1 = sigma_11"
   ]
  },
  {
   "cell_type": "markdown",
   "metadata": {},
   "source": [
    "## Secret key rate from solving $H_{\\min}(Z_A|E)$\n",
    "\n",
    "We compare the numerical results against analytical results:\n",
    "\n",
    "$r = -\\log_2 \\left[ \\frac{1}{2} \\left(1+2\\sqrt{(1-Q)Q} \\right) \\right]$\n",
    "\n",
    "as proved in Phys. Rev. A 83, 022330 (2011), and to the asymptotic formula"
   ]
  },
  {
   "cell_type": "code",
   "execution_count": 3,
   "metadata": {},
   "outputs": [
    {
     "data": {
      "application/vnd.jupyter.widget-view+json": {
       "model_id": "cd8b2aebf23d427a9c164bd230111b89",
       "version_major": 2,
       "version_minor": 0
      },
      "text/plain": [
       "HBox(children=(IntProgress(value=1, bar_style='info', max=1), HTML(value='')))"
      ]
     },
     "metadata": {},
     "output_type": "display_data"
    },
    {
     "name": "stdout",
     "output_type": "stream",
     "text": [
      "WARN: A->p (column pointers) not strictly increasing, column 30 empty\n",
      "WARN: A->p (column pointers) not strictly increasing, column 34 empty\n",
      "WARN: A->p (column pointers) not strictly increasing, column 35 empty\n",
      "WARN: A->p (column pointers) not strictly increasing, column 38 empty\n",
      "WARN: A->p (column pointers) not strictly increasing, column 39 empty\n",
      "WARN: A->p (column pointers) not strictly increasing, column 40 empty\n",
      "WARN: A->p (column pointers) not strictly increasing, column 120 empty\n",
      "WARN: A->p (column pointers) not strictly increasing, column 124 empty\n",
      "WARN: A->p (column pointers) not strictly increasing, column 125 empty\n",
      "WARN: A->p (column pointers) not strictly increasing, column 128 empty\n",
      "WARN: A->p (column pointers) not strictly increasing, column 129 empty\n",
      "WARN: A->p (column pointers) not strictly increasing, column 130 empty\n",
      "WARN: A->p (column pointers) not strictly increasing, column 46 empty\n",
      "WARN: A->p (column pointers) not strictly increasing, column 50 empty\n",
      "WARN: A->p (column pointers) not strictly increasing, column 51 empty\n",
      "WARN: A->p (column pointers) not strictly increasing, column 54 empty\n",
      "WARN: A->p (column pointers) not strictly increasing, column 55 empty\n",
      "WARN: A->p (column pointers) not strictly increasing, column 56 empty\n",
      "WARN: A->p (column pointers) not strictly increasing, column 88 empty\n",
      "WARN: A->p (column pointers) not strictly increasing, column 92 empty\n",
      "WARN: A->p (column pointers) not strictly increasing, column 93 empty\n",
      "WARN: A->p (column pointers) not strictly increasing, column 96 empty\n",
      "WARN: A->p (column pointers) not strictly increasing, column 97 empty\n",
      "WARN: A->p (column pointers) not strictly increasing, column 98 empty\n",
      "WARN: A->p (column pointers) not strictly increasing, column 30 empty\n",
      "WARN: A->p (column pointers) not strictly increasing, column 34 empty\n",
      "WARN: A->p (column pointers) not strictly increasing, column 35 empty\n",
      "WARN: A->p (column pointers) not strictly increasing, column 38 empty\n",
      "WARN: A->p (column pointers) not strictly increasing, column 39 empty\n",
      "WARN: A->p (column pointers) not strictly increasing, column 40 empty\n",
      "WARN: A->p (column pointers) not strictly increasing, column 120 empty\n",
      "WARN: A->p (column pointers) not strictly increasing, column 124 empty\n",
      "WARN: A->p (column pointers) not strictly increasing, column 125 empty\n",
      "WARN: A->p (column pointers) not strictly increasing, column 128 empty\n",
      "WARN: A->p (column pointers) not strictly increasing, column 129 empty\n",
      "WARN: A->p (column pointers) not strictly increasing, column 130 empty\n",
      "WARN: A->p (column pointers) not strictly increasing, column 30 empty\n",
      "WARN: A->p (column pointers) not strictly increasing, column 34 empty\n",
      "WARN: A->p (column pointers) not strictly increasing, column 35 empty\n",
      "WARN: A->p (column pointers) not strictly increasing, column 38 empty\n",
      "WARN: A->p (column pointers) not strictly increasing, column 39 empty\n",
      "WARN: A->p (column pointers) not strictly increasing, column 40 empty\n",
      "WARN: A->p (column pointers) not strictly increasing, column 104 empty\n",
      "WARN: A->p (column pointers) not strictly increasing, column 108 empty\n",
      "WARN: A->p (column pointers) not strictly increasing, column 109 empty\n",
      "WARN: A->p (column pointers) not strictly increasing, column 112 empty\n",
      "WARN: A->p (column pointers) not strictly increasing, column 113 empty\n",
      "WARN: A->p (column pointers) not strictly increasing, column 114 empty\n",
      "WARN: A->p (column pointers) not strictly increasing, column 46 empty\n",
      "WARN: A->p (column pointers) not strictly increasing, column 50 empty\n",
      "WARN: A->p (column pointers) not strictly increasing, column 51 empty\n",
      "WARN: A->p (column pointers) not strictly increasing, column 54 empty\n",
      "WARN: A->p (column pointers) not strictly increasing, column 55 empty\n",
      "WARN: A->p (column pointers) not strictly increasing, column 56 empty\n",
      "WARN: A->p (column pointers) not strictly increasing, column 120 empty\n",
      "WARN: A->p (column pointers) not strictly increasing, column 124 empty\n",
      "WARN: A->p (column pointers) not strictly increasing, column 125 empty\n",
      "WARN: A->p (column pointers) not strictly increasing, column 128 empty\n",
      "WARN: A->p (column pointers) not strictly increasing, column 129 empty\n",
      "WARN: A->p (column pointers) not strictly increasing, column 130 empty\n",
      "WARN: A->p (column pointers) not strictly increasing, column 30 empty\n",
      "WARN: A->p (column pointers) not strictly increasing, column 34 empty\n",
      "WARN: A->p (column pointers) not strictly increasing, column 35 empty\n",
      "WARN: A->p (column pointers) not strictly increasing, column 38 empty\n",
      "WARN: A->p (column pointers) not strictly increasing, column 39 empty\n",
      "WARN: A->p (column pointers) not strictly increasing, column 40 empty\n",
      "WARN: A->p (column pointers) not strictly increasing, column 120 empty\n",
      "WARN: A->p (column pointers) not strictly increasing, column 124 empty\n",
      "WARN: A->p (column pointers) not strictly increasing, column 125 empty\n",
      "WARN: A->p (column pointers) not strictly increasing, column 128 empty\n",
      "WARN: A->p (column pointers) not strictly increasing, column 129 empty\n",
      "WARN: A->p (column pointers) not strictly increasing, column 130 empty\n",
      "WARN: A->p (column pointers) not strictly increasing, column 62 empty\n",
      "WARN: A->p (column pointers) not strictly increasing, column 66 empty\n",
      "WARN: A->p (column pointers) not strictly increasing, column 67 empty\n",
      "WARN: A->p (column pointers) not strictly increasing, column 70 empty\n",
      "WARN: A->p (column pointers) not strictly increasing, column 71 empty\n",
      "WARN: A->p (column pointers) not strictly increasing, column 72 empty\n",
      "WARN: A->p (column pointers) not strictly increasing, column 88 empty\n",
      "WARN: A->p (column pointers) not strictly increasing, column 92 empty\n",
      "WARN: A->p (column pointers) not strictly increasing, column 93 empty\n",
      "WARN: A->p (column pointers) not strictly increasing, column 96 empty\n",
      "WARN: A->p (column pointers) not strictly increasing, column 97 empty\n",
      "WARN: A->p (column pointers) not strictly increasing, column 98 empty\n",
      "WARN: A->p (column pointers) not strictly increasing, column 30 empty\n",
      "WARN: A->p (column pointers) not strictly increasing, column 34 empty\n",
      "WARN: A->p (column pointers) not strictly increasing, column 35 empty\n",
      "WARN: A->p (column pointers) not strictly increasing, column 38 empty\n",
      "WARN: A->p (column pointers) not strictly increasing, column 39 empty\n",
      "WARN: A->p (column pointers) not strictly increasing, column 40 empty\n",
      "WARN: A->p (column pointers) not strictly increasing, column 120 empty\n",
      "WARN: A->p (column pointers) not strictly increasing, column 124 empty\n",
      "WARN: A->p (column pointers) not strictly increasing, column 125 empty\n",
      "WARN: A->p (column pointers) not strictly increasing, column 128 empty\n",
      "WARN: A->p (column pointers) not strictly increasing, column 129 empty\n",
      "WARN: A->p (column pointers) not strictly increasing, column 130 empty\n",
      "WARN: A->p (column pointers) not strictly increasing, column 62 empty\n",
      "WARN: A->p (column pointers) not strictly increasing, column 66 empty\n",
      "WARN: A->p (column pointers) not strictly increasing, column 67 empty\n",
      "WARN: A->p (column pointers) not strictly increasing, column 70 empty\n",
      "WARN: A->p (column pointers) not strictly increasing, column 71 empty\n",
      "WARN: A->p (column pointers) not strictly increasing, column 72 empty\n",
      "WARN: A->p (column pointers) not strictly increasing, column 104 empty\n",
      "WARN: A->p (column pointers) not strictly increasing, column 108 empty\n",
      "WARN: A->p (column pointers) not strictly increasing, column 109 empty\n",
      "WARN: A->p (column pointers) not strictly increasing, column 112 empty\n",
      "WARN: A->p (column pointers) not strictly increasing, column 113 empty\n",
      "WARN: A->p (column pointers) not strictly increasing, column 114 empty\n",
      "WARN: A->p (column pointers) not strictly increasing, column 46 empty\n",
      "WARN: A->p (column pointers) not strictly increasing, column 50 empty\n",
      "WARN: A->p (column pointers) not strictly increasing, column 51 empty\n",
      "WARN: A->p (column pointers) not strictly increasing, column 54 empty\n",
      "WARN: A->p (column pointers) not strictly increasing, column 55 empty\n",
      "WARN: A->p (column pointers) not strictly increasing, column 56 empty\n",
      "WARN: A->p (column pointers) not strictly increasing, column 88 empty\n",
      "WARN: A->p (column pointers) not strictly increasing, column 92 empty\n",
      "WARN: A->p (column pointers) not strictly increasing, column 93 empty\n",
      "WARN: A->p (column pointers) not strictly increasing, column 96 empty\n",
      "WARN: A->p (column pointers) not strictly increasing, column 97 empty\n",
      "WARN: A->p (column pointers) not strictly increasing, column 98 empty\n",
      "WARN: A->p (column pointers) not strictly increasing, column 30 empty\n",
      "WARN: A->p (column pointers) not strictly increasing, column 34 empty\n",
      "WARN: A->p (column pointers) not strictly increasing, column 35 empty\n",
      "WARN: A->p (column pointers) not strictly increasing, column 38 empty\n",
      "WARN: A->p (column pointers) not strictly increasing, column 39 empty\n",
      "WARN: A->p (column pointers) not strictly increasing, column 40 empty\n",
      "WARN: A->p (column pointers) not strictly increasing, column 88 empty\n",
      "WARN: A->p (column pointers) not strictly increasing, column 92 empty\n",
      "WARN: A->p (column pointers) not strictly increasing, column 93 empty\n",
      "WARN: A->p (column pointers) not strictly increasing, column 96 empty\n",
      "WARN: A->p (column pointers) not strictly increasing, column 97 empty\n",
      "WARN: A->p (column pointers) not strictly increasing, column 98 empty\n"
     ]
    },
    {
     "name": "stdout",
     "output_type": "stream",
     "text": [
      "WARN: A->p (column pointers) not strictly increasing, column 46 empty\n",
      "WARN: A->p (column pointers) not strictly increasing, column 50 empty\n",
      "WARN: A->p (column pointers) not strictly increasing, column 51 empty\n",
      "WARN: A->p (column pointers) not strictly increasing, column 54 empty\n",
      "WARN: A->p (column pointers) not strictly increasing, column 55 empty\n",
      "WARN: A->p (column pointers) not strictly increasing, column 56 empty\n",
      "WARN: A->p (column pointers) not strictly increasing, column 88 empty\n",
      "WARN: A->p (column pointers) not strictly increasing, column 92 empty\n",
      "WARN: A->p (column pointers) not strictly increasing, column 93 empty\n",
      "WARN: A->p (column pointers) not strictly increasing, column 96 empty\n",
      "WARN: A->p (column pointers) not strictly increasing, column 97 empty\n",
      "WARN: A->p (column pointers) not strictly increasing, column 98 empty\n",
      "WARN: A->p (column pointers) not strictly increasing, column 62 empty\n",
      "WARN: A->p (column pointers) not strictly increasing, column 66 empty\n",
      "WARN: A->p (column pointers) not strictly increasing, column 67 empty\n",
      "WARN: A->p (column pointers) not strictly increasing, column 70 empty\n",
      "WARN: A->p (column pointers) not strictly increasing, column 71 empty\n",
      "WARN: A->p (column pointers) not strictly increasing, column 72 empty\n",
      "WARN: A->p (column pointers) not strictly increasing, column 104 empty\n",
      "WARN: A->p (column pointers) not strictly increasing, column 108 empty\n",
      "WARN: A->p (column pointers) not strictly increasing, column 109 empty\n",
      "WARN: A->p (column pointers) not strictly increasing, column 112 empty\n",
      "WARN: A->p (column pointers) not strictly increasing, column 113 empty\n",
      "WARN: A->p (column pointers) not strictly increasing, column 114 empty\n",
      "WARN: A->p (column pointers) not strictly increasing, column 30 empty\n",
      "WARN: A->p (column pointers) not strictly increasing, column 34 empty\n",
      "WARN: A->p (column pointers) not strictly increasing, column 35 empty\n",
      "WARN: A->p (column pointers) not strictly increasing, column 38 empty\n",
      "WARN: A->p (column pointers) not strictly increasing, column 39 empty\n",
      "WARN: A->p (column pointers) not strictly increasing, column 40 empty\n",
      "WARN: A->p (column pointers) not strictly increasing, column 88 empty\n",
      "WARN: A->p (column pointers) not strictly increasing, column 92 empty\n",
      "WARN: A->p (column pointers) not strictly increasing, column 93 empty\n",
      "WARN: A->p (column pointers) not strictly increasing, column 96 empty\n",
      "WARN: A->p (column pointers) not strictly increasing, column 97 empty\n",
      "WARN: A->p (column pointers) not strictly increasing, column 98 empty\n",
      "WARN: A->p (column pointers) not strictly increasing, column 46 empty\n",
      "WARN: A->p (column pointers) not strictly increasing, column 50 empty\n",
      "WARN: A->p (column pointers) not strictly increasing, column 51 empty\n",
      "WARN: A->p (column pointers) not strictly increasing, column 54 empty\n",
      "WARN: A->p (column pointers) not strictly increasing, column 55 empty\n",
      "WARN: A->p (column pointers) not strictly increasing, column 56 empty\n",
      "WARN: A->p (column pointers) not strictly increasing, column 88 empty\n",
      "WARN: A->p (column pointers) not strictly increasing, column 92 empty\n",
      "WARN: A->p (column pointers) not strictly increasing, column 93 empty\n",
      "WARN: A->p (column pointers) not strictly increasing, column 96 empty\n",
      "WARN: A->p (column pointers) not strictly increasing, column 97 empty\n",
      "WARN: A->p (column pointers) not strictly increasing, column 98 empty\n",
      "WARN: A->p (column pointers) not strictly increasing, column 62 empty\n",
      "WARN: A->p (column pointers) not strictly increasing, column 66 empty\n",
      "WARN: A->p (column pointers) not strictly increasing, column 67 empty\n",
      "WARN: A->p (column pointers) not strictly increasing, column 70 empty\n",
      "WARN: A->p (column pointers) not strictly increasing, column 71 empty\n",
      "WARN: A->p (column pointers) not strictly increasing, column 72 empty\n",
      "WARN: A->p (column pointers) not strictly increasing, column 88 empty\n",
      "WARN: A->p (column pointers) not strictly increasing, column 92 empty\n",
      "WARN: A->p (column pointers) not strictly increasing, column 93 empty\n",
      "WARN: A->p (column pointers) not strictly increasing, column 96 empty\n",
      "WARN: A->p (column pointers) not strictly increasing, column 97 empty\n",
      "WARN: A->p (column pointers) not strictly increasing, column 98 empty\n",
      "WARN: A->p (column pointers) not strictly increasing, column 30 empty\n",
      "WARN: A->p (column pointers) not strictly increasing, column 34 empty\n",
      "WARN: A->p (column pointers) not strictly increasing, column 35 empty\n",
      "WARN: A->p (column pointers) not strictly increasing, column 38 empty\n",
      "WARN: A->p (column pointers) not strictly increasing, column 39 empty\n",
      "WARN: A->p (column pointers) not strictly increasing, column 40 empty\n",
      "WARN: A->p (column pointers) not strictly increasing, column 104 empty\n",
      "WARN: A->p (column pointers) not strictly increasing, column 108 empty\n",
      "WARN: A->p (column pointers) not strictly increasing, column 109 empty\n",
      "WARN: A->p (column pointers) not strictly increasing, column 112 empty\n",
      "WARN: A->p (column pointers) not strictly increasing, column 113 empty\n",
      "WARN: A->p (column pointers) not strictly increasing, column 114 empty\n",
      "WARN: A->p (column pointers) not strictly increasing, column 46 empty\n",
      "WARN: A->p (column pointers) not strictly increasing, column 50 empty\n",
      "WARN: A->p (column pointers) not strictly increasing, column 51 empty\n",
      "WARN: A->p (column pointers) not strictly increasing, column 54 empty\n",
      "WARN: A->p (column pointers) not strictly increasing, column 55 empty\n",
      "WARN: A->p (column pointers) not strictly increasing, column 56 empty\n",
      "WARN: A->p (column pointers) not strictly increasing, column 120 empty\n",
      "WARN: A->p (column pointers) not strictly increasing, column 124 empty\n",
      "WARN: A->p (column pointers) not strictly increasing, column 125 empty\n",
      "WARN: A->p (column pointers) not strictly increasing, column 128 empty\n",
      "WARN: A->p (column pointers) not strictly increasing, column 129 empty\n",
      "WARN: A->p (column pointers) not strictly increasing, column 130 empty\n",
      "WARN: A->p (column pointers) not strictly increasing, column 46 empty\n",
      "WARN: A->p (column pointers) not strictly increasing, column 50 empty\n",
      "WARN: A->p (column pointers) not strictly increasing, column 51 empty\n",
      "WARN: A->p (column pointers) not strictly increasing, column 54 empty\n",
      "WARN: A->p (column pointers) not strictly increasing, column 55 empty\n",
      "WARN: A->p (column pointers) not strictly increasing, column 56 empty\n",
      "WARN: A->p (column pointers) not strictly increasing, column 120 empty\n",
      "WARN: A->p (column pointers) not strictly increasing, column 124 empty\n",
      "WARN: A->p (column pointers) not strictly increasing, column 125 empty\n",
      "WARN: A->p (column pointers) not strictly increasing, column 128 empty\n",
      "WARN: A->p (column pointers) not strictly increasing, column 129 empty\n",
      "WARN: A->p (column pointers) not strictly increasing, column 130 empty\n",
      "WARN: A->p (column pointers) not strictly increasing, column 30 empty\n",
      "WARN: A->p (column pointers) not strictly increasing, column 34 empty\n",
      "WARN: A->p (column pointers) not strictly increasing, column 35 empty\n",
      "WARN: A->p (column pointers) not strictly increasing, column 38 empty\n",
      "WARN: A->p (column pointers) not strictly increasing, column 39 empty\n",
      "WARN: A->p (column pointers) not strictly increasing, column 40 empty\n",
      "WARN: A->p (column pointers) not strictly increasing, column 88 empty\n",
      "WARN: A->p (column pointers) not strictly increasing, column 92 empty\n",
      "WARN: A->p (column pointers) not strictly increasing, column 93 empty\n",
      "WARN: A->p (column pointers) not strictly increasing, column 96 empty\n",
      "WARN: A->p (column pointers) not strictly increasing, column 97 empty\n",
      "WARN: A->p (column pointers) not strictly increasing, column 98 empty\n",
      "WARN: A->p (column pointers) not strictly increasing, column 46 empty\n",
      "WARN: A->p (column pointers) not strictly increasing, column 50 empty\n",
      "WARN: A->p (column pointers) not strictly increasing, column 51 empty\n",
      "WARN: A->p (column pointers) not strictly increasing, column 54 empty\n",
      "WARN: A->p (column pointers) not strictly increasing, column 55 empty\n",
      "WARN: A->p (column pointers) not strictly increasing, column 56 empty\n",
      "WARN: A->p (column pointers) not strictly increasing, column 104 empty\n",
      "WARN: A->p (column pointers) not strictly increasing, column 108 empty\n",
      "WARN: A->p (column pointers) not strictly increasing, column 109 empty\n",
      "WARN: A->p (column pointers) not strictly increasing, column 112 empty\n",
      "WARN: A->p (column pointers) not strictly increasing, column 113 empty\n",
      "WARN: A->p (column pointers) not strictly increasing, column 114 empty\n",
      "\n"
     ]
    }
   ],
   "source": [
    "# Numerical method\n",
    "dim = 2\n",
    "Gamma = [Ez, Ex]\n",
    "key_map_povm = [Z0, Z1]\n",
    "\n",
    "qber = np.linspace(0, .5, 21)\n",
    "key_opt_primal = np.empty_like(qber)\n",
    "key_opt_dual = np.empty_like(qber)\n",
    "\n",
    "Hmin = nQKD.RelativeMinEntropyKeyrate(key_map_povm, [dim, dim])\n",
    "\n",
    "for i, q in tqdm(enumerate(qber)):\n",
    "    gamma = np.array([q, q])\n",
    "    ex_const = {'Gamma': Gamma, 'gamma': gamma}\n",
    "    Hmin.set_constraints(exact_constraints=ex_const)\n",
    "    key_opt_primal[i] = Hmin.compute_primal()  # change the solver if necessary\n",
    "    key_opt_dual[i] = Hmin.compute_dual()\n",
    "\n",
    "# Analytical methods\n",
    "analytic_qber = np.linspace(np.amin(qber), np.amax(qber), 501)\n",
    "key = -np.log2(.5*(1+2*np.sqrt(analytic_qber*(1-analytic_qber))))"
   ]
  },
  {
   "cell_type": "markdown",
   "metadata": {},
   "source": [
    "## Secret key rate from solving $H(Z_A|E)$\n",
    "\n",
    "We compare the numerical results against the usual BB84 key rate:\n",
    "    \n",
    "$r = 1 - h_2(Q)$, where $h_2$ is the binary entropy function."
   ]
  },
  {
   "cell_type": "code",
   "execution_count": 4,
   "metadata": {},
   "outputs": [
    {
     "data": {
      "application/vnd.jupyter.widget-view+json": {
       "model_id": "62af542b946a42b3996d68d6576f0122",
       "version_major": 2,
       "version_minor": 0
      },
      "text/plain": [
       "HBox(children=(IntProgress(value=1, bar_style='info', max=1), HTML(value='')))"
      ]
     },
     "metadata": {},
     "output_type": "display_data"
    },
    {
     "name": "stdout",
     "output_type": "stream",
     "text": [
      "\n"
     ]
    }
   ],
   "source": [
    "# Asymptotic numerical method\n",
    "key_opt_primal_asymptotic = np.empty_like(qber)\n",
    "\n",
    "H = nQKD.RelativeEntropyKeyrate(key_map_povm, [dim, dim])\n",
    "\n",
    "for i, q in tqdm(enumerate(qber)):\n",
    "    gamma = np.array([q, q])\n",
    "    ex_const = {'Gamma': Gamma, 'gamma': gamma}\n",
    "    H.set_constraints(exact_constraints=ex_const)\n",
    "    key_opt_primal_asymptotic[i] = H.compute_primal()\n",
    "\n",
    "# Analytical method\n",
    "key_asymptotic = np.array([1-nQKD.bin_entropy(q) for q in analytic_qber])"
   ]
  },
  {
   "cell_type": "markdown",
   "metadata": {},
   "source": [
    "## Plot the results\n",
    "\n",
    "We plot the results from previous calculations."
   ]
  },
  {
   "cell_type": "code",
   "execution_count": 9,
   "metadata": {},
   "outputs": [
    {
     "data": {
      "image/png": "[encoded data removed]",
      "text/plain": [
       "<Figure size 432x288 with 1 Axes>"
      ]
     },
     "metadata": {
      "needs_background": "light"
     },
     "output_type": "display_data"
    }
   ],
   "source": [
    "# Plot results\n",
    "%matplotlib inline\n",
    "\n",
    "plt.plot(qber, key_opt_primal, 'o', label='Primal')\n",
    "plt.plot(qber, key_opt_dual, 'x', label='Dual')\n",
    "plt.plot(qber, key_opt_primal_asymptotic, 'o', label='Primal asymptotic')\n",
    "plt.plot(analytic_qber, key, label='Analytic')\n",
    "plt.plot(analytic_qber, key_asymptotic, label='Asymptotic')\n",
    "plt.xlabel('QBER')\n",
    "plt.ylabel('Secret key rate (without leak_EC)')\n",
    "plt.legend()\n",
    "plt.show()"
   ]
  }
 ],
 "metadata": {
  "kernelspec": {
   "display_name": "Python 3",
   "language": "python",
   "name": "python3"
  },
  "language_info": {
   "codemirror_mode": {
    "name": "ipython",
    "version": 3
   },
   "file_extension": ".py",
   "mimetype": "text/x-python",
   "name": "python",
   "nbconvert_exporter": "python",
   "pygments_lexer": "ipython3",
   "version": "3.6.6"
  },
  "latex_envs": {
   "LaTeX_envs_menu_present": true,
   "autoclose": false,
   "autocomplete": true,
   "bibliofile": "biblio.bib",
   "cite_by": "apalike",
   "current_citInitial": 1,
   "eqLabelWithNumbers": true,
   "eqNumInitial": 1,
   "hotkeys": {
    "equation": "Ctrl-E",
    "itemize": "Ctrl-I"
   },
   "labels_anchors": false,
   "latex_user_defs": false,
   "report_style_numbering": false,
   "user_envs_cfg": false
  },
  "toc": {
   "base_numbering": 1,
   "nav_menu": {},
   "number_sections": true,
   "sideBar": true,
   "skip_h1_title": false,
   "title_cell": "Table of Contents",
   "title_sidebar": "Contents",
   "toc_cell": false,
   "toc_position": {},
   "toc_section_display": true,
   "toc_window_display": true
  },
  "varInspector": {
   "cols": {
    "lenName": 16,
    "lenType": 16,
    "lenVar": 40
   },
   "kernels_config": {
    "python": {
     "delete_cmd_postfix": "",
     "delete_cmd_prefix": "del ",
     "library": "var_list.py",
     "varRefreshCmd": "print(var_dic_list())"
    },
    "r": {
     "delete_cmd_postfix": ") ",
     "delete_cmd_prefix": "rm(",
     "library": "var_list.r",
     "varRefreshCmd": "cat(var_dic_list()) "
    }
   },
   "types_to_exclude": [
    "module",
    "function",
    "builtin_function_or_method",
    "instance",
    "_Feature"
   ],
   "window_display": false
  },
  "widgets": {
   "application/vnd.jupyter.widget-state+json": {
    "state": {
     "1539d2c99ef745f287a8cfafdee0822f": {
      "model_module": "@jupyter-widgets/controls",
      "model_module_version": "1.4.0",
      "model_name": "HBoxModel",
      "state": {
       "children": [
        "IPY_MODEL_d5de937a95c644a4bce0e7bdcc1920ab",
        "IPY_MODEL_334ec94089a54a5fa21d41234445c9b9"
       ],
       "layout": "IPY_MODEL_eac6ac6dea6841b19ace5bcead9c5d5a"
      }
     },
     "2ea50821682b471fba8444e837fa7701": {
      "model_module": "@jupyter-widgets/controls",
      "model_module_version": "1.4.0",
      "model_name": "HBoxModel",
      "state": {
       "children": [
        "IPY_MODEL_ba8d345a945043039e6da76bee906ff1",
        "IPY_MODEL_9fd2de8df0414126a1e5bc8eefb859ff"
       ],
       "layout": "IPY_MODEL_6827faf0232e47c7b6130fab2085ce09"
      }
     },
     "334ec94089a54a5fa21d41234445c9b9": {
      "model_module": "@jupyter-widgets/controls",
      "model_module_version": "1.4.0",
      "model_name": "HTMLModel",
      "state": {
       "layout": "IPY_MODEL_a14b1126c7ed47e79f47c8e6509ae28c",
       "style": "IPY_MODEL_81c91e576516494b9c25ddaf0a55e2b7",
       "value": "51it [00:11,  5.11it/s]"
      }
     },
     "474293316eb7492c9c6601a4cb1f7523": {
      "model_module": "@jupyter-widgets/base",
      "model_module_version": "1.1.0",
      "model_name": "LayoutModel",
      "state": {}
     },
     "4b8c6425662d4f2aa33c59d7f752b54a": {
      "model_module": "@jupyter-widgets/base",
      "model_module_version": "1.1.0",
      "model_name": "LayoutModel",
      "state": {}
     },
     "6827faf0232e47c7b6130fab2085ce09": {
      "model_module": "@jupyter-widgets/base",
      "model_module_version": "1.1.0",
      "model_name": "LayoutModel",
      "state": {}
     },
     "81c91e576516494b9c25ddaf0a55e2b7": {
      "model_module": "@jupyter-widgets/controls",
      "model_module_version": "1.4.0",
      "model_name": "DescriptionStyleModel",
      "state": {
       "description_width": ""
      }
     },
     "9fd2de8df0414126a1e5bc8eefb859ff": {
      "model_module": "@jupyter-widgets/controls",
      "model_module_version": "1.4.0",
      "model_name": "HTMLModel",
      "state": {
       "layout": "IPY_MODEL_474293316eb7492c9c6601a4cb1f7523",
       "style": "IPY_MODEL_cd32edabc4894f95b5524729885bf948",
       "value": "0it [00:00, ?it/s]"
      }
     },
     "a14b1126c7ed47e79f47c8e6509ae28c": {
      "model_module": "@jupyter-widgets/base",
      "model_module_version": "1.1.0",
      "model_name": "LayoutModel",
      "state": {}
     },
     "b07c3b3563a0455bbcb2a782ffbda788": {
      "model_module": "@jupyter-widgets/base",
      "model_module_version": "1.1.0",
      "model_name": "LayoutModel",
      "state": {}
     },
     "ba8d345a945043039e6da76bee906ff1": {
      "model_module": "@jupyter-widgets/controls",
      "model_module_version": "1.4.0",
      "model_name": "IntProgressModel",
      "state": {
       "bar_style": "danger",
       "layout": "IPY_MODEL_b07c3b3563a0455bbcb2a782ffbda788",
       "max": 1,
       "style": "IPY_MODEL_fb1ac3838d744cf5844df1d712c4e4ba",
       "value": 1
      }
     },
     "cd32edabc4894f95b5524729885bf948": {
      "model_module": "@jupyter-widgets/controls",
      "model_module_version": "1.4.0",
      "model_name": "DescriptionStyleModel",
      "state": {
       "description_width": ""
      }
     },
     "d5687a4cdc20414ea55a77679c1d2031": {
      "model_module": "@jupyter-widgets/controls",
      "model_module_version": "1.4.0",
      "model_name": "ProgressStyleModel",
      "state": {
       "description_width": ""
      }
     },
     "d5de937a95c644a4bce0e7bdcc1920ab": {
      "model_module": "@jupyter-widgets/controls",
      "model_module_version": "1.4.0",
      "model_name": "IntProgressModel",
      "state": {
       "bar_style": "success",
       "layout": "IPY_MODEL_4b8c6425662d4f2aa33c59d7f752b54a",
       "max": 1,
       "style": "IPY_MODEL_d5687a4cdc20414ea55a77679c1d2031",
       "value": 1
      }
     },
     "eac6ac6dea6841b19ace5bcead9c5d5a": {
      "model_module": "@jupyter-widgets/base",
      "model_module_version": "1.1.0",
      "model_name": "LayoutModel",
      "state": {}
     },
     "fb1ac3838d744cf5844df1d712c4e4ba": {
      "model_module": "@jupyter-widgets/controls",
      "model_module_version": "1.4.0",
      "model_name": "ProgressStyleModel",
      "state": {
       "description_width": ""
      }
     }
    },
    "version_major": 2,
    "version_minor": 0
   }
  }
 },
 "nbformat": 4,
 "nbformat_minor": 2
}
